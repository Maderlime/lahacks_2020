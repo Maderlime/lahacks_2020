{
 "cells": [
  {
   "cell_type": "code",
   "execution_count": 90,
   "metadata": {},
   "outputs": [],
   "source": [
    "import IPython.display as display\n",
    "from PIL import Image\n",
    "import numpy as np\n",
    "import matplotlib.pyplot as plt\n",
    "import tensorflow as tf\n",
    "import os, os.path\n",
    "import pathlib\n",
    "from pathlib import Path\n",
    "import pandas as pd\n",
    "import re"
   ]
  },
  {
   "cell_type": "code",
   "execution_count": 20,
   "metadata": {},
   "outputs": [
    {
     "data": {
      "text/plain": [
       "'2.2.0-rc2'"
      ]
     },
     "execution_count": 20,
     "metadata": {},
     "output_type": "execute_result"
    }
   ],
   "source": [
    "tf.__version__"
   ]
  },
  {
   "cell_type": "code",
   "execution_count": 155,
   "metadata": {},
   "outputs": [],
   "source": [
    "cwd = os.getcwd()\n",
    "data_folder = Path(cwd)\n",
    "image_list = list(data_folder.glob('*/dataset1.1/*.JPG'))\n"
   ]
  },
  {
   "cell_type": "code",
   "execution_count": 156,
   "metadata": {},
   "outputs": [
    {
     "data": {
      "text/plain": [
       "0"
      ]
     },
     "execution_count": 156,
     "metadata": {},
     "output_type": "execute_result"
    }
   ],
   "source": [
    "image_count = len(list(data_folder.glob('*/*.JPG')))\n",
    "image_count"
   ]
  },
  {
   "cell_type": "code",
   "execution_count": 157,
   "metadata": {},
   "outputs": [
    {
     "ename": "IndexError",
     "evalue": "list index out of range",
     "output_type": "error",
     "traceback": [
      "\u001b[0;31m---------------------------------------------------------------------------\u001b[0m",
      "\u001b[0;31mIndexError\u001b[0m                                Traceback (most recent call last)",
      "\u001b[0;32m<ipython-input-157-cbd1d0b283a6>\u001b[0m in \u001b[0;36m<module>\u001b[0;34m\u001b[0m\n\u001b[0;32m----> 1\u001b[0;31m \u001b[0mimg\u001b[0m \u001b[0;34m=\u001b[0m \u001b[0mImage\u001b[0m\u001b[0;34m.\u001b[0m\u001b[0mopen\u001b[0m\u001b[0;34m(\u001b[0m\u001b[0mimage_list\u001b[0m\u001b[0;34m[\u001b[0m\u001b[0;36m0\u001b[0m\u001b[0;34m]\u001b[0m\u001b[0;34m)\u001b[0m\u001b[0;34m\u001b[0m\u001b[0;34m\u001b[0m\u001b[0m\n\u001b[0m\u001b[1;32m      2\u001b[0m \u001b[0mimg\u001b[0m\u001b[0;34m.\u001b[0m\u001b[0mshow\u001b[0m\u001b[0;34m(\u001b[0m\u001b[0;34m)\u001b[0m\u001b[0;34m\u001b[0m\u001b[0;34m\u001b[0m\u001b[0m\n",
      "\u001b[0;31mIndexError\u001b[0m: list index out of range"
     ]
    }
   ],
   "source": [
    "img = Image.open(image_list[0])\n",
    "img.show()"
   ]
  },
  {
   "cell_type": "code",
   "execution_count": 43,
   "metadata": {},
   "outputs": [],
   "source": [
    "for image_path in image_list:\n",
    "    if '(1)' in image_path.stem:\n",
    "        image_list.remove(image_path)"
   ]
  },
  {
   "cell_type": "code",
   "execution_count": 45,
   "metadata": {},
   "outputs": [
    {
     "data": {
      "text/plain": [
       "tensorflow.python.keras.preprocessing.image.ImageDataGenerator"
      ]
     },
     "execution_count": 45,
     "metadata": {},
     "output_type": "execute_result"
    }
   ],
   "source": [
    "tf.keras.preprocessing.image.ImageDataGenerator"
   ]
  },
  {
   "cell_type": "code",
   "execution_count": 136,
   "metadata": {},
   "outputs": [
    {
     "data": {
      "text/plain": [
       "'Train data\\\\Positive data\\\\G0010033.bmp 6 1990 1406 66 14 1464 1442 92 16 1108 1450 54 16 558 1434 102 16 338 1450 72 18 262 1450 58 22                                \\n'"
      ]
     },
     "execution_count": 136,
     "metadata": {},
     "output_type": "execute_result"
    }
   ],
   "source": [
    "f_train = open(\"dataset1.1/simpleTrainFullPhotosSortedFullAnnotations.txt\")\n",
    "train_lines = f_train.readlines()\n",
    "f_train.close()\n",
    "\n",
    "df_train = pd.DataFrame(train_lines)\n",
    "df_train.rename({df_train.columns[0]: \"line\"}, axis=1, inplace=True)\n",
    "\n",
    "df_train['id'] = df_train[\"line\"].apply(lambda x: x.split(\"\\\\\")[2].split(\".bmp\")[0] + \".JPG\")\n",
    "df_train['NumAnnots'] = df_train[\"line\"].apply(lambda x: x.split(\".bmp \")[1].split(\" \")[0])\n",
    "df_train['labels'] = df_train['line'].apply(lambda x: list(filter(None, re.split(\".bmp [0-9]+ \", x)[1].split(\" \")))[:-1])\n",
    "df_train['FirstLabel'] = df_train['labels'].apply(lambda x: x[:4])\n",
    "df_train['result'] = df_train[\"line\"].apply(lambda x: x.split(\"\\\\\")[1])\n",
    "df_train['binary'] = 1\n",
    "df_train.head()\n",
    "\n",
    "df_train.iloc[0, 0]"
   ]
  },
  {
   "cell_type": "code",
   "execution_count": 137,
   "metadata": {},
   "outputs": [
    {
     "data": {
      "text/html": [
       "<div>\n",
       "<style scoped>\n",
       "    .dataframe tbody tr th:only-of-type {\n",
       "        vertical-align: middle;\n",
       "    }\n",
       "\n",
       "    .dataframe tbody tr th {\n",
       "        vertical-align: top;\n",
       "    }\n",
       "\n",
       "    .dataframe thead th {\n",
       "        text-align: right;\n",
       "    }\n",
       "</style>\n",
       "<table border=\"1\" class=\"dataframe\">\n",
       "  <thead>\n",
       "    <tr style=\"text-align: right;\">\n",
       "      <th></th>\n",
       "      <th>line</th>\n",
       "      <th>id</th>\n",
       "      <th>NumAnnots</th>\n",
       "      <th>labels</th>\n",
       "      <th>FirstLabel</th>\n",
       "      <th>result</th>\n",
       "      <th>binary</th>\n",
       "    </tr>\n",
       "  </thead>\n",
       "  <tbody>\n",
       "    <tr>\n",
       "      <th>0</th>\n",
       "      <td>Train data\\Positive data\\G0010033.bmp 6 1990 1...</td>\n",
       "      <td>G0010033.JPG</td>\n",
       "      <td>6</td>\n",
       "      <td>[1990, 1406, 66, 14, 1464, 1442, 92, 16, 1108,...</td>\n",
       "      <td>[1990, 1406, 66, 14]</td>\n",
       "      <td>Positive data</td>\n",
       "      <td>1</td>\n",
       "    </tr>\n",
       "    <tr>\n",
       "      <th>1</th>\n",
       "      <td>Train data\\Positive data\\G0010034.bmp 5 1804 1...</td>\n",
       "      <td>G0010034.JPG</td>\n",
       "      <td>5</td>\n",
       "      <td>[1804, 1424, 90, 16, 1192, 1484, 110, 16, 782,...</td>\n",
       "      <td>[1804, 1424, 90, 16]</td>\n",
       "      <td>Positive data</td>\n",
       "      <td>1</td>\n",
       "    </tr>\n",
       "    <tr>\n",
       "      <th>2</th>\n",
       "      <td>Train data\\Positive data\\G0010035.bmp 4 1590 1...</td>\n",
       "      <td>G0010035.JPG</td>\n",
       "      <td>4</td>\n",
       "      <td>[1590, 1452, 106, 24, 840, 1544, 132, 28, 368,...</td>\n",
       "      <td>[1590, 1452, 106, 24]</td>\n",
       "      <td>Positive data</td>\n",
       "      <td>1</td>\n",
       "    </tr>\n",
       "    <tr>\n",
       "      <th>3</th>\n",
       "      <td>Train data\\Positive data\\G0010036.bmp 3 1322 1...</td>\n",
       "      <td>G0010036.JPG</td>\n",
       "      <td>3</td>\n",
       "      <td>[1322, 1516, 134, 28, 362, 1658, 156, 38, 1744...</td>\n",
       "      <td>[1322, 1516, 134, 28]</td>\n",
       "      <td>Positive data</td>\n",
       "      <td>1</td>\n",
       "    </tr>\n",
       "    <tr>\n",
       "      <th>4</th>\n",
       "      <td>Train data\\Positive data\\G0010037.bmp 2 884 16...</td>\n",
       "      <td>G0010037.JPG</td>\n",
       "      <td>2</td>\n",
       "      <td>[884, 1638, 190, 52, 1428, 1654, 98, 26]</td>\n",
       "      <td>[884, 1638, 190, 52]</td>\n",
       "      <td>Positive data</td>\n",
       "      <td>1</td>\n",
       "    </tr>\n",
       "  </tbody>\n",
       "</table>\n",
       "</div>"
      ],
      "text/plain": [
       "                                                line            id NumAnnots  \\\n",
       "0  Train data\\Positive data\\G0010033.bmp 6 1990 1...  G0010033.JPG         6   \n",
       "1  Train data\\Positive data\\G0010034.bmp 5 1804 1...  G0010034.JPG         5   \n",
       "2  Train data\\Positive data\\G0010035.bmp 4 1590 1...  G0010035.JPG         4   \n",
       "3  Train data\\Positive data\\G0010036.bmp 3 1322 1...  G0010036.JPG         3   \n",
       "4  Train data\\Positive data\\G0010037.bmp 2 884 16...  G0010037.JPG         2   \n",
       "\n",
       "                                              labels             FirstLabel  \\\n",
       "0  [1990, 1406, 66, 14, 1464, 1442, 92, 16, 1108,...   [1990, 1406, 66, 14]   \n",
       "1  [1804, 1424, 90, 16, 1192, 1484, 110, 16, 782,...   [1804, 1424, 90, 16]   \n",
       "2  [1590, 1452, 106, 24, 840, 1544, 132, 28, 368,...  [1590, 1452, 106, 24]   \n",
       "3  [1322, 1516, 134, 28, 362, 1658, 156, 38, 1744...  [1322, 1516, 134, 28]   \n",
       "4           [884, 1638, 190, 52, 1428, 1654, 98, 26]   [884, 1638, 190, 52]   \n",
       "\n",
       "          result  binary  \n",
       "0  Positive data       1  \n",
       "1  Positive data       1  \n",
       "2  Positive data       1  \n",
       "3  Positive data       1  \n",
       "4  Positive data       1  "
      ]
     },
     "execution_count": 137,
     "metadata": {},
     "output_type": "execute_result"
    }
   ],
   "source": [
    "df_train.head()"
   ]
  },
  {
   "cell_type": "code",
   "execution_count": 124,
   "metadata": {},
   "outputs": [
    {
     "data": {
      "text/html": [
       "<div>\n",
       "<style scoped>\n",
       "    .dataframe tbody tr th:only-of-type {\n",
       "        vertical-align: middle;\n",
       "    }\n",
       "\n",
       "    .dataframe tbody tr th {\n",
       "        vertical-align: top;\n",
       "    }\n",
       "\n",
       "    .dataframe thead th {\n",
       "        text-align: right;\n",
       "    }\n",
       "</style>\n",
       "<table border=\"1\" class=\"dataframe\">\n",
       "  <thead>\n",
       "    <tr style=\"text-align: right;\">\n",
       "      <th></th>\n",
       "      <th>line</th>\n",
       "      <th>id</th>\n",
       "      <th>NumAnnots</th>\n",
       "      <th>labels</th>\n",
       "      <th>FirstLabel</th>\n",
       "    </tr>\n",
       "  </thead>\n",
       "  <tbody>\n",
       "    <tr>\n",
       "      <th>0</th>\n",
       "      <td>Test data\\G0011476.bmp 2 2176 1580 242 44 1726...</td>\n",
       "      <td>G0011476</td>\n",
       "      <td>2</td>\n",
       "      <td>[2176, 1580, 242, 44, 1726, 1458, 106, 26]</td>\n",
       "      <td>[2176, 1580, 242, 44]</td>\n",
       "    </tr>\n",
       "    <tr>\n",
       "      <th>1</th>\n",
       "      <td>Test data\\G0011523.bmp 3 2250 1472 68 24 2192 ...</td>\n",
       "      <td>G0011523</td>\n",
       "      <td>3</td>\n",
       "      <td>[2250, 1472, 68, 24, 2192, 1432, 56, 18, 1974,...</td>\n",
       "      <td>[2250, 1472, 68, 24]</td>\n",
       "    </tr>\n",
       "    <tr>\n",
       "      <th>2</th>\n",
       "      <td>Test data\\G0011524.bmp 3 2474 1592 120 40 2336...</td>\n",
       "      <td>G0011524</td>\n",
       "      <td>3</td>\n",
       "      <td>[2474, 1592, 120, 40, 2336, 1508, 88, 24, 1992...</td>\n",
       "      <td>[2474, 1592, 120, 40]</td>\n",
       "    </tr>\n",
       "    <tr>\n",
       "      <th>3</th>\n",
       "      <td>Test data\\G0011562.bmp 1 2188 1542 220 50     ...</td>\n",
       "      <td>G0011562</td>\n",
       "      <td>1</td>\n",
       "      <td>[2188, 1542, 220, 50]</td>\n",
       "      <td>[2188, 1542, 220, 50]</td>\n",
       "    </tr>\n",
       "    <tr>\n",
       "      <th>4</th>\n",
       "      <td>Test data\\G0011585.bmp 5 1048 1724 330 48 1472...</td>\n",
       "      <td>G0011585</td>\n",
       "      <td>5</td>\n",
       "      <td>[1048, 1724, 330, 48, 1472, 1514, 142, 24, 164...</td>\n",
       "      <td>[1048, 1724, 330, 48]</td>\n",
       "    </tr>\n",
       "  </tbody>\n",
       "</table>\n",
       "</div>"
      ],
      "text/plain": [
       "                                                line        id NumAnnots  \\\n",
       "0  Test data\\G0011476.bmp 2 2176 1580 242 44 1726...  G0011476         2   \n",
       "1  Test data\\G0011523.bmp 3 2250 1472 68 24 2192 ...  G0011523         3   \n",
       "2  Test data\\G0011524.bmp 3 2474 1592 120 40 2336...  G0011524         3   \n",
       "3  Test data\\G0011562.bmp 1 2188 1542 220 50     ...  G0011562         1   \n",
       "4  Test data\\G0011585.bmp 5 1048 1724 330 48 1472...  G0011585         5   \n",
       "\n",
       "                                              labels             FirstLabel  \n",
       "0         [2176, 1580, 242, 44, 1726, 1458, 106, 26]  [2176, 1580, 242, 44]  \n",
       "1  [2250, 1472, 68, 24, 2192, 1432, 56, 18, 1974,...   [2250, 1472, 68, 24]  \n",
       "2  [2474, 1592, 120, 40, 2336, 1508, 88, 24, 1992...  [2474, 1592, 120, 40]  \n",
       "3                              [2188, 1542, 220, 50]  [2188, 1542, 220, 50]  \n",
       "4  [1048, 1724, 330, 48, 1472, 1514, 142, 24, 164...  [1048, 1724, 330, 48]  "
      ]
     },
     "execution_count": 124,
     "metadata": {},
     "output_type": "execute_result"
    }
   ],
   "source": [
    "f_test = open(\"dataset1.1/simpleTestFullSizeAllPotholesSortedFullAnnotation.txt\")\n",
    "test_lines = f_test.readlines()\n",
    "f_test.close()\n",
    "\n",
    "df_test = pd.DataFrame(test_lines)\n",
    "df_test.rename({df_test.columns[0]: \"line\"}, axis=1, inplace=True)\n",
    "\n",
    "df_test['id'] = df_test[\"line\"].apply(lambda x: x.split(\"\\\\\")[1].split(\".bmp\")[0])\n",
    "df_test['NumAnnots'] = df_test[\"line\"].apply(lambda x: x.split(\".bmp \")[1].split(\" \")[0])\n",
    "df_test['labels'] = df_test['line'].apply(lambda x: list(filter(None, re.split(\".bmp [0-9]+ \", x)[1].split(\" \")))[:-1])\n",
    "df_test['FirstLabel'] = df_test['labels'].apply(lambda x: x[:4])\n",
    "df_test.head()"
   ]
  },
  {
   "cell_type": "code",
   "execution_count": null,
   "metadata": {},
   "outputs": [],
   "source": []
  }
 ],
 "metadata": {
  "kernelspec": {
   "display_name": "Python 3",
   "language": "python",
   "name": "python3"
  },
  "language_info": {
   "codemirror_mode": {
    "name": "ipython",
    "version": 3
   },
   "file_extension": ".py",
   "mimetype": "text/x-python",
   "name": "python",
   "nbconvert_exporter": "python",
   "pygments_lexer": "ipython3",
   "version": "3.8.1"
  }
 },
 "nbformat": 4,
 "nbformat_minor": 4
}
